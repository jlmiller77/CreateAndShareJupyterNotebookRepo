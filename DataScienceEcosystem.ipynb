{
 "cells": [
  {
   "cell_type": "markdown",
   "id": "709f05b5-ce98-45e2-99a0-16965fd67a81",
   "metadata": {},
   "source": [
    "# Data Science Tools and Ecosystem\n"
   ]
  },
  {
   "cell_type": "markdown",
   "id": "d72461d7-5b3b-4518-88a7-b8f3d54eb3b1",
   "metadata": {},
   "source": [
    "## In this notebook, Data Science Tools and Ecosystem are summarized.\n"
   ]
  },
  {
   "cell_type": "markdown",
   "id": "bed5d344-dab5-4aca-8464-cfab8220da07",
   "metadata": {},
   "source": [
    "### Some of the popular languages that Data Scientists use are:\n",
    "1. Python\n",
    "2. R\n",
    "3. Java\n",
    "4. SQL\n",
    "   "
   ]
  },
  {
   "cell_type": "markdown",
   "id": "ae95596c-4692-4634-92f7-40d86d43f524",
   "metadata": {},
   "source": [
    "### Some of the commonly used libraries used by Data Scientists include:\n",
    "- Matplotlib\n",
    "- Pandas\n",
    "- NumbPy\n",
    "- Plotly\n",
    "  "
   ]
  },
  {
   "cell_type": "markdown",
   "id": "433433d5-e9a2-4744-bd99-19ca9d2b08eb",
   "metadata": {},
   "source": [
    "| Data Science Tools |\n",
    "| ------------------ |\n",
    "| Jupyter Notebook |\n",
    "| RStudio |\n",
    "| Anaconda |\n"
   ]
  },
  {
   "cell_type": "markdown",
   "id": "e6d0695d-b8f5-413a-9ddc-74cdf37122ab",
   "metadata": {},
   "source": [
    "### Below are a few examples of evaluating arithmetic expressions in Python\n"
   ]
  },
  {
   "cell_type": "code",
   "execution_count": 4,
   "id": "0dbd5b5d-4051-4b73-9c78-367321f80046",
   "metadata": {},
   "outputs": [
    {
     "name": "stdout",
     "output_type": "stream",
     "text": [
      "17\n"
     ]
    }
   ],
   "source": [
    "#### This a simple arithmetic expression to multiply then add integers\n",
    "\n",
    "print((3*4)+5)"
   ]
  },
  {
   "cell_type": "code",
   "execution_count": 7,
   "id": "ac9d2c4b-a8c7-4cec-bc18-a7ce97d1634f",
   "metadata": {},
   "outputs": [
    {
     "name": "stdout",
     "output_type": "stream",
     "text": [
      "3.3333333333333335\n"
     ]
    }
   ],
   "source": [
    "#### This will convert 200 minutes to hours by diving by 60\n",
    "#### 60 min = 1 hour ==> 1 min = 1/60 hour\n",
    "\n",
    "m = 1/60\n",
    "\n",
    "print(200*m)"
   ]
  },
  {
   "cell_type": "markdown",
   "id": "55275491-dce7-436c-b750-a236528086d3",
   "metadata": {},
   "source": [
    "### Objectives\n",
    "- list popular languages for data science\n",
    "- list popular libraries for data science\n",
    "- make a table listing common IDE's in data science\n",
    "- perform a simple arithmetic expression\n"
   ]
  },
  {
   "cell_type": "markdown",
   "id": "328b325b-edd1-4de2-8d36-4b62e3bb5921",
   "metadata": {},
   "source": [
    "## Author\n",
    "Jimmy Miller\n"
   ]
  }
 ],
 "metadata": {
  "kernelspec": {
   "display_name": "Python 3 (ipykernel)",
   "language": "python",
   "name": "python3"
  },
  "language_info": {
   "codemirror_mode": {
    "name": "ipython",
    "version": 3
   },
   "file_extension": ".py",
   "mimetype": "text/x-python",
   "name": "python",
   "nbconvert_exporter": "python",
   "pygments_lexer": "ipython3",
   "version": "3.12.8"
  }
 },
 "nbformat": 4,
 "nbformat_minor": 5
}
